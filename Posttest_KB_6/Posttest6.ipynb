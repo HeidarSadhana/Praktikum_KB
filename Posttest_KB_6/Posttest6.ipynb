{
  "nbformat": 4,
  "nbformat_minor": 0,
  "metadata": {
    "colab": {
      "provenance": []
    },
    "kernelspec": {
      "name": "python3",
      "display_name": "Python 3"
    },
    "language_info": {
      "name": "python"
    }
  },
  "cells": [
    {
      "cell_type": "markdown",
      "source": [
        "### Load Dataset"
      ],
      "metadata": {
        "id": "fGfm4iq9Bpo1"
      }
    },
    {
      "cell_type": "code",
      "execution_count": 682,
      "metadata": {
        "id": "watOVDUElEdR"
      },
      "outputs": [],
      "source": [
        "import pandas as pd"
      ]
    },
    {
      "cell_type": "code",
      "source": [
        "df = pd.read_csv('TravelInsurancePrediction.csv')"
      ],
      "metadata": {
        "id": "UGp4PGIZmJ9r"
      },
      "execution_count": 683,
      "outputs": []
    },
    {
      "cell_type": "markdown",
      "source": [
        "### Preprocessing"
      ],
      "metadata": {
        "id": "D6cN38DiAl3t"
      }
    },
    {
      "cell_type": "code",
      "source": [
        "df.dropna(inplace=True)"
      ],
      "metadata": {
        "id": "Jq-45L-1mwT0"
      },
      "execution_count": 684,
      "outputs": []
    },
    {
      "cell_type": "code",
      "source": [
        "df.drop_duplicates(inplace = True)"
      ],
      "metadata": {
        "id": "H0PQ3i3i3kr8"
      },
      "execution_count": 685,
      "outputs": []
    },
    {
      "cell_type": "code",
      "source": [
        "x = df.drop('TravelInsurance', axis =1)"
      ],
      "metadata": {
        "id": "uuryChH5n56q"
      },
      "execution_count": 686,
      "outputs": []
    },
    {
      "cell_type": "code",
      "source": [
        "x_num = x[['AnnualIncome', 'Age', 'FamilyMembers']]"
      ],
      "metadata": {
        "id": "bbWpJeEbm1Qq"
      },
      "execution_count": 687,
      "outputs": []
    },
    {
      "cell_type": "code",
      "source": [
        "x_cat = x.drop(['AnnualIncome', 'Age', 'FamilyMembers'], axis=1)"
      ],
      "metadata": {
        "id": "tGm5U_sGnIij"
      },
      "execution_count": 688,
      "outputs": []
    },
    {
      "cell_type": "markdown",
      "source": [
        "#### One Hot Encoding untuk data x kategorikal"
      ],
      "metadata": {
        "id": "TsutkIgwAxy_"
      }
    },
    {
      "cell_type": "code",
      "source": [
        "x_cat = pd.get_dummies(x_cat)"
      ],
      "metadata": {
        "id": "Y6DxXtmEnMSO"
      },
      "execution_count": 689,
      "outputs": []
    },
    {
      "cell_type": "code",
      "source": [
        "x = x_num.join(x_cat)\n",
        "y = df['TravelInsurance']"
      ],
      "metadata": {
        "id": "CdfkAPGEozMH"
      },
      "execution_count": 690,
      "outputs": []
    },
    {
      "cell_type": "markdown",
      "source": [
        "#### Scaling data x"
      ],
      "metadata": {
        "id": "YNVQpcbnAvQg"
      }
    },
    {
      "cell_type": "code",
      "source": [
        "from sklearn.preprocessing import StandardScaler\n",
        "\n",
        "ss= StandardScaler()\n",
        "\n",
        "x = ss.fit_transform(x)"
      ],
      "metadata": {
        "id": "zeTpixGYpcmz"
      },
      "execution_count": 691,
      "outputs": []
    },
    {
      "cell_type": "markdown",
      "source": [
        "#### Split data train dan test"
      ],
      "metadata": {
        "id": "ndASqLG9A3hb"
      }
    },
    {
      "cell_type": "code",
      "source": [
        "from sklearn.model_selection import train_test_split\n",
        "\n",
        "x_train, x_test, y_train, y_test = train_test_split(x, y, test_size=0.1, random_state=32)"
      ],
      "metadata": {
        "id": "SCpmDrTeuAj2"
      },
      "execution_count": 693,
      "outputs": []
    },
    {
      "cell_type": "markdown",
      "source": [
        "### DNN"
      ],
      "metadata": {
        "id": "TVoKgChWA6Oh"
      }
    },
    {
      "cell_type": "code",
      "source": [
        "import tensorflow as tf"
      ],
      "metadata": {
        "id": "GX7Nx7Gkq90q"
      },
      "execution_count": 694,
      "outputs": []
    },
    {
      "cell_type": "markdown",
      "source": [
        "#### Buat Arsitektur Model Sequential"
      ],
      "metadata": {
        "id": "TiaGZ3phA-fh"
      }
    },
    {
      "cell_type": "code",
      "source": [
        "model = tf.keras.Sequential([\n",
        "    tf.keras.layers.Dense(8, activation='relu', input_shape=(None, 12)),\n",
        "    tf.keras.layers.Dense(16, activation='relu'),\n",
        "    tf.keras.layers.Dense(1, activation='sigmoid'),\n",
        "])"
      ],
      "metadata": {
        "id": "0kZo8VL0rbY5"
      },
      "execution_count": 702,
      "outputs": []
    },
    {
      "cell_type": "markdown",
      "source": [
        "#### Compile model"
      ],
      "metadata": {
        "id": "3dNF6ddhBBe4"
      }
    },
    {
      "cell_type": "code",
      "source": [
        "model.compile(\n",
        "    optimizer = 'adam',\n",
        "    loss = 'binary_crossentropy',\n",
        "    metrics = ['accuracy']\n",
        ")"
      ],
      "metadata": {
        "id": "eJzoRszFrfKd"
      },
      "execution_count": 703,
      "outputs": []
    },
    {
      "cell_type": "markdown",
      "source": [
        "#### Siapkan callback EarlyStopping dengan memperhatikan train accuracy"
      ],
      "metadata": {
        "id": "DJQBJyziBFuM"
      }
    },
    {
      "cell_type": "code",
      "source": [
        "monitor_callbacks = tf.keras.callbacks.EarlyStopping('accuracy', patience = 3)"
      ],
      "metadata": {
        "id": "f4EctcZsvbaF"
      },
      "execution_count": 704,
      "outputs": []
    },
    {
      "cell_type": "markdown",
      "source": [
        "#### Fitting model dengan data yang sudah di split dan callbacks"
      ],
      "metadata": {
        "id": "Lt1ZqiJnBKtI"
      }
    },
    {
      "cell_type": "code",
      "source": [
        "hasil = model.fit(x_train, y, epochs = 50, validation_split=0.3, callbacks = [monitor_callbacks])"
      ],
      "metadata": {
        "colab": {
          "base_uri": "https://localhost:8080/"
        },
        "id": "I8dlyQejtg5_",
        "outputId": "a5a34cce-4aa3-48fe-f579-22aba70b6a05"
      },
      "execution_count": 705,
      "outputs": [
        {
          "output_type": "stream",
          "name": "stdout",
          "text": [
            "Epoch 1/50\n",
            "23/23 [==============================] - 1s 11ms/step - loss: 0.8092 - accuracy: 0.4245 - val_loss: 0.7501 - val_accuracy: 0.5080\n",
            "Epoch 2/50\n",
            "23/23 [==============================] - 0s 4ms/step - loss: 0.7378 - accuracy: 0.4945 - val_loss: 0.7156 - val_accuracy: 0.4952\n",
            "Epoch 3/50\n",
            "23/23 [==============================] - 0s 4ms/step - loss: 0.7011 - accuracy: 0.5549 - val_loss: 0.7010 - val_accuracy: 0.5272\n",
            "Epoch 4/50\n",
            "23/23 [==============================] - 0s 4ms/step - loss: 0.6855 - accuracy: 0.5962 - val_loss: 0.6969 - val_accuracy: 0.5687\n",
            "Epoch 5/50\n",
            "23/23 [==============================] - 0s 4ms/step - loss: 0.6751 - accuracy: 0.6126 - val_loss: 0.6926 - val_accuracy: 0.5623\n",
            "Epoch 6/50\n",
            "23/23 [==============================] - 0s 4ms/step - loss: 0.6705 - accuracy: 0.6181 - val_loss: 0.6898 - val_accuracy: 0.5623\n",
            "Epoch 7/50\n",
            "23/23 [==============================] - 0s 4ms/step - loss: 0.6671 - accuracy: 0.6236 - val_loss: 0.6909 - val_accuracy: 0.5751\n",
            "Epoch 8/50\n",
            "23/23 [==============================] - 0s 4ms/step - loss: 0.6648 - accuracy: 0.6195 - val_loss: 0.6888 - val_accuracy: 0.5783\n",
            "Epoch 9/50\n",
            "23/23 [==============================] - 0s 4ms/step - loss: 0.6633 - accuracy: 0.6250 - val_loss: 0.6896 - val_accuracy: 0.5751\n",
            "Epoch 10/50\n",
            "23/23 [==============================] - 0s 4ms/step - loss: 0.6620 - accuracy: 0.6250 - val_loss: 0.6887 - val_accuracy: 0.5783\n",
            "Epoch 11/50\n",
            "23/23 [==============================] - 0s 4ms/step - loss: 0.6610 - accuracy: 0.6250 - val_loss: 0.6900 - val_accuracy: 0.5815\n",
            "Epoch 12/50\n",
            "23/23 [==============================] - 0s 4ms/step - loss: 0.6603 - accuracy: 0.6250 - val_loss: 0.6895 - val_accuracy: 0.5815\n"
          ]
        }
      ]
    },
    {
      "cell_type": "markdown",
      "source": [
        "#### Evaluasi model dengan melihat loss dan accuracy pada data test"
      ],
      "metadata": {
        "id": "jB3-QBknBQOj"
      }
    },
    {
      "cell_type": "code",
      "source": [
        "score = model.evaluate(x_test, y_test, verbose=0)\n",
        "print('Test loss:', score[0])\n",
        "print('Test accuracy:', score[1])"
      ],
      "metadata": {
        "colab": {
          "base_uri": "https://localhost:8080/"
        },
        "id": "GgwHuow8wb2d",
        "outputId": "daf4b70a-a651-4426-803b-47696ad975c1"
      },
      "execution_count": 706,
      "outputs": [
        {
          "output_type": "stream",
          "name": "stdout",
          "text": [
            "Test loss: 0.6450744271278381\n",
            "Test accuracy: 0.681034505367279\n"
          ]
        }
      ]
    },
    {
      "cell_type": "code",
      "source": [
        "import seaborn as sns\n",
        "import matplotlib.pyplot as plt"
      ],
      "metadata": {
        "id": "QkkQfxH_w3g2"
      },
      "execution_count": 707,
      "outputs": []
    },
    {
      "cell_type": "markdown",
      "source": [
        "#### Buat Grafik pada saat training data di setiap epoch"
      ],
      "metadata": {
        "id": "55mEHDI-BW4V"
      }
    },
    {
      "cell_type": "markdown",
      "source": [
        "##### Akurasi Model"
      ],
      "metadata": {
        "id": "Yl7Cf212CBN-"
      }
    },
    {
      "cell_type": "code",
      "source": [
        "plt.plot(hasil.history['accuracy'])\n",
        "plt.plot(hasil.history['val_accuracy'])\n",
        "plt.title('model accuracy')\n",
        "plt.ylabel('accuracy')\n",
        "plt.xlabel('epoch')\n",
        "plt.legend(['train', 'val'], loc='upper left')\n",
        "plt.show()"
      ],
      "metadata": {
        "colab": {
          "base_uri": "https://localhost:8080/",
          "height": 472
        },
        "id": "pQEL1-gX7IHM",
        "outputId": "29ac1aea-fbea-4c29-9b3e-b1e92db8b60a"
      },
      "execution_count": 708,
      "outputs": [
        {
          "output_type": "display_data",
          "data": {
            "text/plain": [
              "<Figure size 640x480 with 1 Axes>"
            ],
            "image/png": "[encoded data removed]"
          },
          "metadata": {}
        }
      ]
    },
    {
      "cell_type": "markdown",
      "source": [
        "Akurasi model tergolong rendah pada val set"
      ],
      "metadata": {
        "id": "uDfSABjhBhf7"
      }
    },
    {
      "cell_type": "markdown",
      "source": [
        "##### Loss Model"
      ],
      "metadata": {
        "id": "y6iWkYftCZIq"
      }
    },
    {
      "cell_type": "code",
      "source": [
        "plt.plot(hasil.history['loss'])\n",
        "plt.plot(hasil.history['val_loss'])\n",
        "plt.title('model loss')\n",
        "plt.ylabel('loss')\n",
        "plt.xlabel('epoch')\n",
        "plt.legend(['train', 'val'], loc='upper left')\n",
        "plt.show()"
      ],
      "metadata": {
        "colab": {
          "base_uri": "https://localhost:8080/",
          "height": 472
        },
        "id": "IROvMrIwCFxQ",
        "outputId": "ccf9d899-26dc-4577-faee-4b1a73818f4f"
      },
      "execution_count": 709,
      "outputs": [
        {
          "output_type": "display_data",
          "data": {
            "text/plain": [
              "<Figure size 640x480 with 1 Axes>"
            ],
            "image/png": "[encoded data removed]"
          },
          "metadata": {}
        }
      ]
    },
    {
      "cell_type": "markdown",
      "source": [
        "loss semakin besar setiap train pada val set"
      ],
      "metadata": {
        "id": "nUdNuwN6COz4"
      }
    }
  ]
}