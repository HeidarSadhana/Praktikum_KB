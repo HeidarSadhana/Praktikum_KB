{
  "nbformat": 4,
  "nbformat_minor": 0,
  "metadata": {
    "colab": {
      "provenance": []
    },
    "kernelspec": {
      "name": "python3",
      "display_name": "Python 3"
    },
    "language_info": {
      "name": "python"
    }
  },
  "cells": [
    {
      "cell_type": "markdown",
      "source": [
        "## **Mohammad Heidar Sadhana (2109106046)**\n",
        "## **POSTTEST4**"
      ],
      "metadata": {
        "id": "K3Ptz2gBJ-Q-"
      }
    },
    {
      "cell_type": "markdown",
      "source": [
        "Import pandas & numpy"
      ],
      "metadata": {
        "id": "3XNZ_pcpKLQx"
      }
    },
    {
      "cell_type": "code",
      "execution_count": 171,
      "metadata": {
        "id": "qpouvLhrrQuD"
      },
      "outputs": [],
      "source": [
        "import pandas as pd\n",
        "import numpy as np"
      ]
    },
    {
      "cell_type": "markdown",
      "source": [
        "buat dataframe dari dataset"
      ],
      "metadata": {
        "id": "-3PbB4TFKQVd"
      }
    },
    {
      "cell_type": "code",
      "source": [
        "df = pd.read_csv(\"TravelInsurancePrediction.csv\")"
      ],
      "metadata": {
        "id": "ifXcbzxIrWIu"
      },
      "execution_count": 202,
      "outputs": []
    },
    {
      "cell_type": "markdown",
      "source": [
        "### **1. Bagi dataset menjadi training set dan testing set dengan proporsi 70:30**"
      ],
      "metadata": {
        "id": "xcN5UjkfKltk"
      }
    },
    {
      "cell_type": "markdown",
      "source": [
        "import train_test_split dari scikit learn untuk data splitting"
      ],
      "metadata": {
        "id": "Lk45DYUAKXZA"
      }
    },
    {
      "cell_type": "code",
      "source": [
        "from sklearn.model_selection import train_test_split"
      ],
      "metadata": {
        "id": "KfxiQDsHrl60"
      },
      "execution_count": 173,
      "outputs": []
    },
    {
      "cell_type": "markdown",
      "source": [
        "Memilih kolom Employment Type sebagai target dan TravelInsurance sebagai feature"
      ],
      "metadata": {
        "id": "yWwObM1bK-fa"
      }
    },
    {
      "cell_type": "code",
      "source": [
        "x = df[['Employment Type']] #target\n",
        "y = df[['TravelInsurance']] #feature"
      ],
      "metadata": {
        "id": "d5kGctWxr55b"
      },
      "execution_count": 174,
      "outputs": []
    },
    {
      "cell_type": "markdown",
      "source": [
        "Membagi data menjadi x_train, x_test, y_train, y_test dengan memanggil fungsi train_test_split dengan menggunakan variabel x dan y yang telah dibuat, dan juga mengacak urutan data dengan shuffle, serta membagi ukuran test menjadi 0.3 dari data sehingga proporsi pembagian menjadi 70 : 30"
      ],
      "metadata": {
        "id": "tqRGR352LJRN"
      }
    },
    {
      "cell_type": "code",
      "source": [
        "x_train, x_test, y_train, y_test = train_test_split(x, y, shuffle = True, test_size = 0.3)"
      ],
      "metadata": {
        "id": "2XzG1zieLIOP"
      },
      "execution_count": null,
      "outputs": []
    },
    {
      "cell_type": "markdown",
      "source": [
        "cek dimensi untuk setiap data yang sudah dibagi"
      ],
      "metadata": {
        "id": "lqqvNLM4L2ho"
      }
    },
    {
      "cell_type": "code",
      "source": [
        "print(\"Dimensi x_train : \", x_train.shape)\n",
        "print(\"Dimensi x_test : \", x_test.shape)\n",
        "print(\"Dimensi y_train : \", y_train.shape)\n",
        "print(\"Dimensi y_test : \", y_test.shape)"
      ],
      "metadata": {
        "colab": {
          "base_uri": "https://localhost:8080/"
        },
        "id": "n4YyoO2Lsnjo",
        "outputId": "72ab8acf-6bab-481c-cba6-617285710dea"
      },
      "execution_count": 175,
      "outputs": [
        {
          "output_type": "stream",
          "name": "stdout",
          "text": [
            "Dimensi x_train :  (1409, 1)\n",
            "Dimensi x_test :  (605, 1)\n",
            "Dimensi y_train :  (1409, 1)\n",
            "Dimensi y_test :  (605, 1)\n"
          ]
        }
      ]
    },
    {
      "cell_type": "markdown",
      "source": [
        "### **2. Lakukan normalisasi data pada salah satu attribute menggunakan Min Max scaler (buatlah copy dataset terlebih dahulu)**"
      ],
      "metadata": {
        "id": "oxtYjeGIMC6j"
      }
    },
    {
      "cell_type": "markdown",
      "source": [
        "Buat copy dataset dengan nama df1"
      ],
      "metadata": {
        "id": "wk0E8ptlMUOe"
      }
    },
    {
      "cell_type": "code",
      "source": [
        "df1 = pd.read_csv(\"TravelInsurancePrediction.csv\")"
      ],
      "metadata": {
        "id": "eps_XqEjs-X9"
      },
      "execution_count": 176,
      "outputs": []
    },
    {
      "cell_type": "markdown",
      "source": [
        "import minmaxscaler dari scikit learn kemudian buat object dengan nama minmax sebagai minmaxscaler"
      ],
      "metadata": {
        "id": "CEGrhql-MYQJ"
      }
    },
    {
      "cell_type": "code",
      "source": [
        "from sklearn.preprocessing import MinMaxScaler\n",
        "minmax = MinMaxScaler()"
      ],
      "metadata": {
        "id": "sVlpZFZrtEbX"
      },
      "execution_count": 177,
      "outputs": []
    },
    {
      "cell_type": "markdown",
      "source": [
        "kemudian lakukan normalisasi dengan mengganti nilai AnnualIncome dengan menggunakan minmax.fit_transform"
      ],
      "metadata": {
        "id": "GL5Nq2K4Mklc"
      }
    },
    {
      "cell_type": "code",
      "source": [
        "df1['AnnualIncome'] = minmax.fit_transform(df1[['AnnualIncome']])"
      ],
      "metadata": {
        "id": "H28X4v4cMjIg"
      },
      "execution_count": null,
      "outputs": []
    },
    {
      "cell_type": "markdown",
      "source": [
        "Cek apakah data sudah berhasil di normalisasi dengan melihat min dan max pada data jika min = 0 dan max = 1 maka data telah di normaliasi"
      ],
      "metadata": {
        "id": "R66eCCfnMv9d"
      }
    },
    {
      "cell_type": "code",
      "source": [
        "df1[['AnnualIncome']].describe()"
      ],
      "metadata": {
        "colab": {
          "base_uri": "https://localhost:8080/",
          "height": 300
        },
        "id": "kBBbpnBivAfU",
        "outputId": "037b5628-6963-4f6e-a83e-0abb933f1137"
      },
      "execution_count": 178,
      "outputs": [
        {
          "output_type": "execute_result",
          "data": {
            "text/plain": [
              "       AnnualIncome\n",
              "count   2014.000000\n",
              "mean       0.417974\n",
              "std        0.251744\n",
              "min        0.000000\n",
              "25%        0.200000\n",
              "50%        0.400000\n",
              "75%        0.633333\n",
              "max        1.000000"
            ],
            "text/html": [
              "\n",
              "  <div id=\"df-1500d551-fc99-49a9-95a6-e98240f47ec9\" class=\"colab-df-container\">\n",
              "    <div>\n",
              "<style scoped>\n",
              "    .dataframe tbody tr th:only-of-type {\n",
              "        vertical-align: middle;\n",
              "    }\n",
              "\n",
              "    .dataframe tbody tr th {\n",
              "        vertical-align: top;\n",
              "    }\n",
              "\n",
              "    .dataframe thead th {\n",
              "        text-align: right;\n",
              "    }\n",
              "</style>\n",
              "<table border=\"1\" class=\"dataframe\">\n",
              "  <thead>\n",
              "    <tr style=\"text-align: right;\">\n",
              "      <th></th>\n",
              "      <th>AnnualIncome</th>\n",
              "    </tr>\n",
              "  </thead>\n",
              "  <tbody>\n",
              "    <tr>\n",
              "      <th>count</th>\n",
              "      <td>2014.000000</td>\n",
              "    </tr>\n",
              "    <tr>\n",
              "      <th>mean</th>\n",
              "      <td>0.417974</td>\n",
              "    </tr>\n",
              "    <tr>\n",
              "      <th>std</th>\n",
              "      <td>0.251744</td>\n",
              "    </tr>\n",
              "    <tr>\n",
              "      <th>min</th>\n",
              "      <td>0.000000</td>\n",
              "    </tr>\n",
              "    <tr>\n",
              "      <th>25%</th>\n",
              "      <td>0.200000</td>\n",
              "    </tr>\n",
              "    <tr>\n",
              "      <th>50%</th>\n",
              "      <td>0.400000</td>\n",
              "    </tr>\n",
              "    <tr>\n",
              "      <th>75%</th>\n",
              "      <td>0.633333</td>\n",
              "    </tr>\n",
              "    <tr>\n",
              "      <th>max</th>\n",
              "      <td>1.000000</td>\n",
              "    </tr>\n",
              "  </tbody>\n",
              "</table>\n",
              "</div>\n",
              "    <div class=\"colab-df-buttons\">\n",
              "\n",
              "  <div class=\"colab-df-container\">\n",
              "    <button class=\"colab-df-convert\" onclick=\"convertToInteractive('df-1500d551-fc99-49a9-95a6-e98240f47ec9')\"\n",
              "            title=\"Convert this dataframe to an interactive table.\"\n",
              "            style=\"display:none;\">\n",
              "\n",
              "  <svg xmlns=\"http://www.w3.org/2000/svg\" height=\"24px\" viewBox=\"0 -960 960 960\">\n",
              "    <path d=\"M120-120v-720h720v720H120Zm60-500h600v-160H180v160Zm220 220h160v-160H400v160Zm0 220h160v-160H400v160ZM180-400h160v-160H180v160Zm440 0h160v-160H620v160ZM180-180h160v-160H180v160Zm440 0h160v-160H620v160Z\"/>\n",
              "  </svg>\n",
              "    </button>\n",
              "\n",
              "  <style>\n",
              "    .colab-df-container {\n",
              "      display:flex;\n",
              "      gap: 12px;\n",
              "    }\n",
              "\n",
              "    .colab-df-convert {\n",
              "      background-color: #E8F0FE;\n",
              "      border: none;\n",
              "      border-radius: 50%;\n",
              "      cursor: pointer;\n",
              "      display: none;\n",
              "      fill: #1967D2;\n",
              "      height: 32px;\n",
              "      padding: 0 0 0 0;\n",
              "      width: 32px;\n",
              "    }\n",
              "\n",
              "    .colab-df-convert:hover {\n",
              "      background-color: #E2EBFA;\n",
              "      box-shadow: 0px 1px 2px rgba(60, 64, 67, 0.3), 0px 1px 3px 1px rgba(60, 64, 67, 0.15);\n",
              "      fill: #174EA6;\n",
              "    }\n",
              "\n",
              "    .colab-df-buttons div {\n",
              "      margin-bottom: 4px;\n",
              "    }\n",
              "\n",
              "    [theme=dark] .colab-df-convert {\n",
              "      background-color: #3B4455;\n",
              "      fill: #D2E3FC;\n",
              "    }\n",
              "\n",
              "    [theme=dark] .colab-df-convert:hover {\n",
              "      background-color: #434B5C;\n",
              "      box-shadow: 0px 1px 3px 1px rgba(0, 0, 0, 0.15);\n",
              "      filter: drop-shadow(0px 1px 2px rgba(0, 0, 0, 0.3));\n",
              "      fill: #FFFFFF;\n",
              "    }\n",
              "  </style>\n",
              "\n",
              "    <script>\n",
              "      const buttonEl =\n",
              "        document.querySelector('#df-1500d551-fc99-49a9-95a6-e98240f47ec9 button.colab-df-convert');\n",
              "      buttonEl.style.display =\n",
              "        google.colab.kernel.accessAllowed ? 'block' : 'none';\n",
              "\n",
              "      async function convertToInteractive(key) {\n",
              "        const element = document.querySelector('#df-1500d551-fc99-49a9-95a6-e98240f47ec9');\n",
              "        const dataTable =\n",
              "          await google.colab.kernel.invokeFunction('convertToInteractive',\n",
              "                                                    [key], {});\n",
              "        if (!dataTable) return;\n",
              "\n",
              "        const docLinkHtml = 'Like what you see? Visit the ' +\n",
              "          '<a target=\"_blank\" href=https://colab.research.google.com/notebooks/data_table.ipynb>data table notebook</a>'\n",
              "          + ' to learn more about interactive tables.';\n",
              "        element.innerHTML = '';\n",
              "        dataTable['output_type'] = 'display_data';\n",
              "        await google.colab.output.renderOutput(dataTable, element);\n",
              "        const docLink = document.createElement('div');\n",
              "        docLink.innerHTML = docLinkHtml;\n",
              "        element.appendChild(docLink);\n",
              "      }\n",
              "    </script>\n",
              "  </div>\n",
              "\n",
              "\n",
              "<div id=\"df-b6fff189-ded4-4427-97bb-d98ac4fd9020\">\n",
              "  <button class=\"colab-df-quickchart\" onclick=\"quickchart('df-b6fff189-ded4-4427-97bb-d98ac4fd9020')\"\n",
              "            title=\"Suggest charts.\"\n",
              "            style=\"display:none;\">\n",
              "\n",
              "<svg xmlns=\"http://www.w3.org/2000/svg\" height=\"24px\"viewBox=\"0 0 24 24\"\n",
              "     width=\"24px\">\n",
              "    <g>\n",
              "        <path d=\"M19 3H5c-1.1 0-2 .9-2 2v14c0 1.1.9 2 2 2h14c1.1 0 2-.9 2-2V5c0-1.1-.9-2-2-2zM9 17H7v-7h2v7zm4 0h-2V7h2v10zm4 0h-2v-4h2v4z\"/>\n",
              "    </g>\n",
              "</svg>\n",
              "  </button>\n",
              "\n",
              "<style>\n",
              "  .colab-df-quickchart {\n",
              "      --bg-color: #E8F0FE;\n",
              "      --fill-color: #1967D2;\n",
              "      --hover-bg-color: #E2EBFA;\n",
              "      --hover-fill-color: #174EA6;\n",
              "      --disabled-fill-color: #AAA;\n",
              "      --disabled-bg-color: #DDD;\n",
              "  }\n",
              "\n",
              "  [theme=dark] .colab-df-quickchart {\n",
              "      --bg-color: #3B4455;\n",
              "      --fill-color: #D2E3FC;\n",
              "      --hover-bg-color: #434B5C;\n",
              "      --hover-fill-color: #FFFFFF;\n",
              "      --disabled-bg-color: #3B4455;\n",
              "      --disabled-fill-color: #666;\n",
              "  }\n",
              "\n",
              "  .colab-df-quickchart {\n",
              "    background-color: var(--bg-color);\n",
              "    border: none;\n",
              "    border-radius: 50%;\n",
              "    cursor: pointer;\n",
              "    display: none;\n",
              "    fill: var(--fill-color);\n",
              "    height: 32px;\n",
              "    padding: 0;\n",
              "    width: 32px;\n",
              "  }\n",
              "\n",
              "  .colab-df-quickchart:hover {\n",
              "    background-color: var(--hover-bg-color);\n",
              "    box-shadow: 0 1px 2px rgba(60, 64, 67, 0.3), 0 1px 3px 1px rgba(60, 64, 67, 0.15);\n",
              "    fill: var(--button-hover-fill-color);\n",
              "  }\n",
              "\n",
              "  .colab-df-quickchart-complete:disabled,\n",
              "  .colab-df-quickchart-complete:disabled:hover {\n",
              "    background-color: var(--disabled-bg-color);\n",
              "    fill: var(--disabled-fill-color);\n",
              "    box-shadow: none;\n",
              "  }\n",
              "\n",
              "  .colab-df-spinner {\n",
              "    border: 2px solid var(--fill-color);\n",
              "    border-color: transparent;\n",
              "    border-bottom-color: var(--fill-color);\n",
              "    animation:\n",
              "      spin 1s steps(1) infinite;\n",
              "  }\n",
              "\n",
              "  @keyframes spin {\n",
              "    0% {\n",
              "      border-color: transparent;\n",
              "      border-bottom-color: var(--fill-color);\n",
              "      border-left-color: var(--fill-color);\n",
              "    }\n",
              "    20% {\n",
              "      border-color: transparent;\n",
              "      border-left-color: var(--fill-color);\n",
              "      border-top-color: var(--fill-color);\n",
              "    }\n",
              "    30% {\n",
              "      border-color: transparent;\n",
              "      border-left-color: var(--fill-color);\n",
              "      border-top-color: var(--fill-color);\n",
              "      border-right-color: var(--fill-color);\n",
              "    }\n",
              "    40% {\n",
              "      border-color: transparent;\n",
              "      border-right-color: var(--fill-color);\n",
              "      border-top-color: var(--fill-color);\n",
              "    }\n",
              "    60% {\n",
              "      border-color: transparent;\n",
              "      border-right-color: var(--fill-color);\n",
              "    }\n",
              "    80% {\n",
              "      border-color: transparent;\n",
              "      border-right-color: var(--fill-color);\n",
              "      border-bottom-color: var(--fill-color);\n",
              "    }\n",
              "    90% {\n",
              "      border-color: transparent;\n",
              "      border-bottom-color: var(--fill-color);\n",
              "    }\n",
              "  }\n",
              "</style>\n",
              "\n",
              "  <script>\n",
              "    async function quickchart(key) {\n",
              "      const quickchartButtonEl =\n",
              "        document.querySelector('#' + key + ' button');\n",
              "      quickchartButtonEl.disabled = true;  // To prevent multiple clicks.\n",
              "      quickchartButtonEl.classList.add('colab-df-spinner');\n",
              "      try {\n",
              "        const charts = await google.colab.kernel.invokeFunction(\n",
              "            'suggestCharts', [key], {});\n",
              "      } catch (error) {\n",
              "        console.error('Error during call to suggestCharts:', error);\n",
              "      }\n",
              "      quickchartButtonEl.classList.remove('colab-df-spinner');\n",
              "      quickchartButtonEl.classList.add('colab-df-quickchart-complete');\n",
              "    }\n",
              "    (() => {\n",
              "      let quickchartButtonEl =\n",
              "        document.querySelector('#df-b6fff189-ded4-4427-97bb-d98ac4fd9020 button');\n",
              "      quickchartButtonEl.style.display =\n",
              "        google.colab.kernel.accessAllowed ? 'block' : 'none';\n",
              "    })();\n",
              "  </script>\n",
              "</div>\n",
              "    </div>\n",
              "  </div>\n"
            ]
          },
          "metadata": {},
          "execution_count": 178
        }
      ]
    },
    {
      "cell_type": "markdown",
      "source": [
        "###**3. Lakukan standarisasi pada dataset (buatlah copy dataset terlebih dahulu)**"
      ],
      "metadata": {
        "id": "7WOdbyFGM_-C"
      }
    },
    {
      "cell_type": "markdown",
      "source": [
        "Buat copy dataset dengan nama df2"
      ],
      "metadata": {
        "id": "QDsXfs3LNKK1"
      }
    },
    {
      "cell_type": "code",
      "source": [
        "df2 = pd.read_csv(\"TravelInsurancePrediction.csv\")"
      ],
      "metadata": {
        "id": "GlnF0S3HvMJP"
      },
      "execution_count": 179,
      "outputs": []
    },
    {
      "cell_type": "markdown",
      "source": [
        "import standardscaler dari scikit learn kemudian buat object dengan nama standar sebagai standardscaler"
      ],
      "metadata": {
        "id": "Xy9WLXa8NXy-"
      }
    },
    {
      "cell_type": "code",
      "source": [
        "from sklearn.preprocessing import StandardScaler\n",
        "standar = StandardScaler()"
      ],
      "metadata": {
        "id": "i-MIAqQUvsee"
      },
      "execution_count": 180,
      "outputs": []
    },
    {
      "cell_type": "markdown",
      "source": [
        "kemudian lakukan standarisasi dengan mengganti nilai AnnualIncome dengan menggunakan standar.fit_transform"
      ],
      "metadata": {
        "id": "mva4WZkMNeo6"
      }
    },
    {
      "cell_type": "code",
      "source": [
        "df2['AnnualIncome'] = standar.fit_transform(df2[['AnnualIncome']])"
      ],
      "metadata": {
        "id": "V1JTbwQfNTSS"
      },
      "execution_count": null,
      "outputs": []
    },
    {
      "cell_type": "markdown",
      "source": [
        "Cek apakah data berhasil di standarisasi dengan melihat standar deviasi, jika standar deviasi = 1 maka data telah di standarisasi"
      ],
      "metadata": {
        "id": "kf77fqCbNTEB"
      }
    },
    {
      "cell_type": "code",
      "source": [
        "print(\"Nilai standar deviasi: \", np.std(df2['AnnualIncome']))"
      ],
      "metadata": {
        "colab": {
          "base_uri": "https://localhost:8080/"
        },
        "id": "pSDYeNrlv2V5",
        "outputId": "3ad45d86-adb2-48be-992b-60dfa73b1fd4"
      },
      "execution_count": 199,
      "outputs": [
        {
          "output_type": "stream",
          "name": "stdout",
          "text": [
            "Nilai standar deviasi:  1.0\n"
          ]
        }
      ]
    },
    {
      "cell_type": "markdown",
      "source": [
        "### **4. Lakukan Data cleaning pada data dengan nilai null.**"
      ],
      "metadata": {
        "id": "jcUSIQwuOezm"
      }
    },
    {
      "cell_type": "markdown",
      "source": [
        "#### Ganti nilai null sesuai ketentuan. (bilangan bulat : median/modus, bilangan desimal : mean, tulisan : modus)."
      ],
      "metadata": {
        "id": "u0pe4LAuOsoo"
      }
    },
    {
      "cell_type": "markdown",
      "source": [
        "Cek tipe data pada dataset dengan df.info"
      ],
      "metadata": {
        "id": "r-tJLGu3OwxA"
      }
    },
    {
      "cell_type": "code",
      "source": [
        "df.info()"
      ],
      "metadata": {
        "colab": {
          "base_uri": "https://localhost:8080/"
        },
        "id": "xGCKjb6Ny73A",
        "outputId": "37ee6389-8614-4124-a7bb-294153251966"
      },
      "execution_count": 182,
      "outputs": [
        {
          "output_type": "stream",
          "name": "stdout",
          "text": [
            "<class 'pandas.core.frame.DataFrame'>\n",
            "RangeIndex: 2014 entries, 0 to 2013\n",
            "Data columns (total 9 columns):\n",
            " #   Column               Non-Null Count  Dtype  \n",
            "---  ------               --------------  -----  \n",
            " 0   Age                  2014 non-null   int64  \n",
            " 1   Employment Type      2014 non-null   object \n",
            " 2   GraduateOrNot        2014 non-null   object \n",
            " 3   AnnualIncome         2014 non-null   int64  \n",
            " 4   FamilyMembers        1886 non-null   float64\n",
            " 5   ChronicDiseases      2014 non-null   int64  \n",
            " 6   FrequentFlyer        2014 non-null   object \n",
            " 7   EverTravelledAbroad  1946 non-null   object \n",
            " 8   TravelInsurance      2014 non-null   int64  \n",
            "dtypes: float64(1), int64(4), object(4)\n",
            "memory usage: 141.7+ KB\n"
          ]
        }
      ]
    },
    {
      "cell_type": "markdown",
      "source": [
        "Cek kolom yang memiliki nilai null"
      ],
      "metadata": {
        "id": "HEroTTlYO5FO"
      }
    },
    {
      "cell_type": "code",
      "source": [
        "df.isna().sum()"
      ],
      "metadata": {
        "colab": {
          "base_uri": "https://localhost:8080/"
        },
        "id": "tV1YJT6nwynj",
        "outputId": "50373b53-c642-44f0-a0a6-23a27cadfeb4"
      },
      "execution_count": 183,
      "outputs": [
        {
          "output_type": "execute_result",
          "data": {
            "text/plain": [
              "Age                      0\n",
              "Employment Type          0\n",
              "GraduateOrNot            0\n",
              "AnnualIncome             0\n",
              "FamilyMembers          128\n",
              "ChronicDiseases          0\n",
              "FrequentFlyer            0\n",
              "EverTravelledAbroad     68\n",
              "TravelInsurance          0\n",
              "dtype: int64"
            ]
          },
          "metadata": {},
          "execution_count": 183
        }
      ]
    },
    {
      "cell_type": "markdown",
      "source": [
        "#### **A. Mengganti nilai null pada kolom EverTravelledAbroad (tulisan) menggunakan simpleimputer**"
      ],
      "metadata": {
        "id": "yI5rWf-GO_nL"
      }
    },
    {
      "cell_type": "markdown",
      "source": [
        "import SimpleImputer dari scikit learn kemudian buat object dengan nama imputer sebagai SimpleImputer dengan strategy most_frequent atau modus"
      ],
      "metadata": {
        "id": "8j-4i03EPWJi"
      }
    },
    {
      "cell_type": "code",
      "source": [
        "from sklearn.impute import SimpleImputer\n",
        "imputer = SimpleImputer(strategy='most_frequent')"
      ],
      "metadata": {
        "colab": {
          "base_uri": "https://localhost:8080/"
        },
        "id": "a0inBjS8ylTK",
        "outputId": "f0bd7f3f-ccda-4f1a-add1-3dc9aeaaa3ff"
      },
      "execution_count": 184,
      "outputs": [
        {
          "output_type": "execute_result",
          "data": {
            "text/plain": [
              "Age                      0\n",
              "Employment Type          0\n",
              "GraduateOrNot            0\n",
              "AnnualIncome             0\n",
              "FamilyMembers          128\n",
              "ChronicDiseases          0\n",
              "FrequentFlyer            0\n",
              "EverTravelledAbroad      0\n",
              "TravelInsurance          0\n",
              "dtype: int64"
            ]
          },
          "metadata": {},
          "execution_count": 184
        }
      ]
    },
    {
      "cell_type": "markdown",
      "source": [
        "kemudian lakukan cleaning dengan mengganti nilai EverTravelledAbroad yang kosong dengan menggunakan imputer.fit_transform dengan strategy yang telah dibuat"
      ],
      "metadata": {
        "id": "yi0iP_IEP9Qj"
      }
    },
    {
      "cell_type": "code",
      "source": [
        "df['EverTravelledAbroad'] = imputer.fit_transform(df[['EverTravelledAbroad']])"
      ],
      "metadata": {
        "id": "u2t_gGSYPhDy"
      },
      "execution_count": null,
      "outputs": []
    },
    {
      "cell_type": "markdown",
      "source": [
        "Cek kembali data null pada dataframe"
      ],
      "metadata": {
        "id": "5OOJVhjxQN2O"
      }
    },
    {
      "cell_type": "code",
      "source": [
        "df.isna().sum()"
      ],
      "metadata": {
        "id": "nKefzuwJPg6k"
      },
      "execution_count": null,
      "outputs": []
    },
    {
      "cell_type": "markdown",
      "source": [
        "#### **B. Mengganti nilai null pada kolom FamilyMembers (desimal) menggunakan pandas fillna**"
      ],
      "metadata": {
        "id": "lseO1vv5PRwH"
      }
    },
    {
      "cell_type": "markdown",
      "source": [
        "memilih kolom FamilyMembers pada dataframe kemudian menggunakan fungsi fillna dengan mengisi parameter median dari kolom familymembers dan inplace True"
      ],
      "metadata": {
        "id": "EJurdYwgQXS8"
      }
    },
    {
      "cell_type": "code",
      "source": [
        "df['FamilyMembers'].fillna(df['FamilyMembers'].median(), inplace = True)"
      ],
      "metadata": {
        "colab": {
          "base_uri": "https://localhost:8080/"
        },
        "id": "AV7Hpp7b1IKi",
        "outputId": "94183c5f-348a-4727-c345-282bd80c9080"
      },
      "execution_count": 185,
      "outputs": [
        {
          "output_type": "execute_result",
          "data": {
            "text/plain": [
              "Age                    0\n",
              "Employment Type        0\n",
              "GraduateOrNot          0\n",
              "AnnualIncome           0\n",
              "FamilyMembers          0\n",
              "ChronicDiseases        0\n",
              "FrequentFlyer          0\n",
              "EverTravelledAbroad    0\n",
              "TravelInsurance        0\n",
              "dtype: int64"
            ]
          },
          "metadata": {},
          "execution_count": 185
        }
      ]
    },
    {
      "cell_type": "markdown",
      "source": [
        "Cek kembali data null pada dataframe"
      ],
      "metadata": {
        "id": "8pCS2UqXQuOJ"
      }
    },
    {
      "cell_type": "code",
      "source": [
        "df.isna().sum()"
      ],
      "metadata": {
        "id": "529_hB9DQtyz"
      },
      "execution_count": null,
      "outputs": []
    },
    {
      "cell_type": "markdown",
      "source": [
        "### **5. Lakukan Data cleaning pada data dengan nilai duplikat.**"
      ],
      "metadata": {
        "id": "aLEDG6VLQ2D5"
      }
    },
    {
      "cell_type": "markdown",
      "source": [
        "cek jumlah data yang terduplikat"
      ],
      "metadata": {
        "id": "ipmTyUC2RIgn"
      }
    },
    {
      "cell_type": "code",
      "source": [
        "df.duplicated().sum()"
      ],
      "metadata": {
        "colab": {
          "base_uri": "https://localhost:8080/"
        },
        "id": "0TQKjJoKyWEh",
        "outputId": "766bd1ec-5395-4c5a-864f-671f7e4dd257"
      },
      "execution_count": 186,
      "outputs": [
        {
          "output_type": "execute_result",
          "data": {
            "text/plain": [
              "779"
            ]
          },
          "metadata": {},
          "execution_count": 186
        }
      ]
    },
    {
      "cell_type": "markdown",
      "source": [
        "drop record yang terduplikat dengan inplace True"
      ],
      "metadata": {
        "id": "y63wrJLZRMzD"
      }
    },
    {
      "cell_type": "code",
      "source": [
        "df.drop_duplicates(inplace = True)"
      ],
      "metadata": {
        "id": "moWKi1Pwzrzm"
      },
      "execution_count": 187,
      "outputs": []
    },
    {
      "cell_type": "markdown",
      "source": [
        "cek kembali jumlah data duplikat untuk memastikan tidak ada data duplikat"
      ],
      "metadata": {
        "id": "NAyV0oLhRRQb"
      }
    },
    {
      "cell_type": "code",
      "source": [
        "df.duplicated().sum()"
      ],
      "metadata": {
        "colab": {
          "base_uri": "https://localhost:8080/"
        },
        "id": "L6MdwOEW3I5Y",
        "outputId": "f3acf475-c9ac-42b1-a1ac-c228702cf602"
      },
      "execution_count": 188,
      "outputs": [
        {
          "output_type": "execute_result",
          "data": {
            "text/plain": [
              "0"
            ]
          },
          "metadata": {},
          "execution_count": 188
        }
      ]
    },
    {
      "cell_type": "markdown",
      "source": [
        "### **6. Ganti tipe data salah satu attribute angka (Menggunakan Ordinal Encoding)**"
      ],
      "metadata": {
        "id": "L_uUO5qtRYkL"
      }
    },
    {
      "cell_type": "markdown",
      "source": [
        "cek berapa jumlah label pada kolom frequent flyer dan juga tipe datanya"
      ],
      "metadata": {
        "id": "QlHTkwcjRgu7"
      }
    },
    {
      "cell_type": "code",
      "source": [
        "print(df['FrequentFlyer'].info())\n",
        "print(df['FrequentFlyer'].value_counts())"
      ],
      "metadata": {
        "colab": {
          "base_uri": "https://localhost:8080/"
        },
        "id": "DdNQoFZI3qRj",
        "outputId": "a8cd1c13-0daa-4279-f0d5-3ad97139cec6"
      },
      "execution_count": 210,
      "outputs": [
        {
          "output_type": "stream",
          "name": "stdout",
          "text": [
            "<class 'pandas.core.series.Series'>\n",
            "RangeIndex: 2014 entries, 0 to 2013\n",
            "Series name: FrequentFlyer\n",
            "Non-Null Count  Dtype \n",
            "--------------  ----- \n",
            "2014 non-null   object\n",
            "dtypes: object(1)\n",
            "memory usage: 15.9+ KB\n",
            "None\n",
            "No     1597\n",
            "Yes     417\n",
            "Name: FrequentFlyer, dtype: int64\n"
          ]
        }
      ]
    },
    {
      "cell_type": "markdown",
      "source": [
        "import ordinalencoder dari scikit learn kemudian buat object dengan nama ordinal sebagai ordinalencoder dengan menambahkan parameter dtype dan mengisinya dengan int untuk mengubah data nya menjadi integer"
      ],
      "metadata": {
        "id": "MhWpNjSMSNUX"
      }
    },
    {
      "cell_type": "code",
      "source": [
        "from sklearn.preprocessing import OrdinalEncoder\n",
        "ordinal = OrdinalEncoder(dtype = int)"
      ],
      "metadata": {
        "id": "ti2kNfaI3chZ"
      },
      "execution_count": 212,
      "outputs": []
    },
    {
      "cell_type": "markdown",
      "source": [
        "kemudian lakukan encoding dengan mengganti nilai FrequentFlyer dengan menggunakan ordinal.fit_transform"
      ],
      "metadata": {
        "id": "fNyw8XnMSh_M"
      }
    },
    {
      "cell_type": "code",
      "source": [
        "df['FrequentFlyer'] = ordinal.fit_transform(df[['FrequentFlyer']])"
      ],
      "metadata": {
        "id": "FMhrqcEdSMYW"
      },
      "execution_count": 213,
      "outputs": []
    },
    {
      "cell_type": "markdown",
      "source": [
        "cek kembali jumlah label dan tipe datanya"
      ],
      "metadata": {
        "id": "ajU3pqCfSMH5"
      }
    },
    {
      "cell_type": "code",
      "source": [
        "print(df['FrequentFlyer'].info())\n",
        "print(df['FrequentFlyer'].value_counts())"
      ],
      "metadata": {
        "colab": {
          "base_uri": "https://localhost:8080/"
        },
        "id": "arbtmF1x3cbx",
        "outputId": "543391ea-45bf-404d-b44b-c9541f61e75c"
      },
      "execution_count": 214,
      "outputs": [
        {
          "output_type": "stream",
          "name": "stdout",
          "text": [
            "<class 'pandas.core.series.Series'>\n",
            "RangeIndex: 2014 entries, 0 to 2013\n",
            "Series name: FrequentFlyer\n",
            "Non-Null Count  Dtype\n",
            "--------------  -----\n",
            "2014 non-null   int64\n",
            "dtypes: int64(1)\n",
            "memory usage: 15.9 KB\n",
            "None\n",
            "0    1597\n",
            "1     417\n",
            "Name: FrequentFlyer, dtype: int64\n"
          ]
        }
      ]
    },
    {
      "cell_type": "markdown",
      "source": [
        "### **7. Lakukan one hot encoding pada dataset yang kalian miliki**"
      ],
      "metadata": {
        "id": "KvpH_4u6S6WB"
      }
    },
    {
      "cell_type": "markdown",
      "source": [
        "menggunakan fungsi get_dummies yang ada pada library pandas saya membuat sebuah dataframe dengan nama onehot"
      ],
      "metadata": {
        "id": "xUxTj-XoTBpS"
      }
    },
    {
      "cell_type": "code",
      "source": [
        "onehot = pd.get_dummies(df[['EverTravelledAbroad']])"
      ],
      "metadata": {
        "id": "pjnK5x5B470P"
      },
      "execution_count": 192,
      "outputs": []
    },
    {
      "cell_type": "markdown",
      "source": [
        "kemudian menggunakkan join untuk menggabungkan dataframe yang sudah dibuat dengan menggunakan get_dummies dengan dataframe asli"
      ],
      "metadata": {
        "id": "SAUuBhz6TeBC"
      }
    },
    {
      "cell_type": "code",
      "source": [
        "df = df.join(onehot)\n",
        "df.head()"
      ],
      "metadata": {
        "colab": {
          "base_uri": "https://localhost:8080/",
          "height": 399
        },
        "id": "RxNxE7e95QPd",
        "outputId": "da6884fa-0471-40e5-9be7-e33f7b208e7e"
      },
      "execution_count": 193,
      "outputs": [
        {
          "output_type": "execute_result",
          "data": {
            "text/plain": [
              "   Age               Employment Type GraduateOrNot  AnnualIncome  \\\n",
              "0   31             Government Sector           Yes        400000   \n",
              "1   31  Private Sector/Self Employed           Yes       1250000   \n",
              "2   34  Private Sector/Self Employed           Yes        500000   \n",
              "3   28  Private Sector/Self Employed           Yes        700000   \n",
              "4   28  Private Sector/Self Employed           Yes        700000   \n",
              "\n",
              "   FamilyMembers  ChronicDiseases  FrequentFlyer EverTravelledAbroad  \\\n",
              "0            4.0                1              0                  No   \n",
              "1            7.0                0              0                  No   \n",
              "2            4.0                1              0                  No   \n",
              "3            3.0                1              0                  No   \n",
              "4            8.0                1              1                  No   \n",
              "\n",
              "   TravelInsurance  EverTravelledAbroad_No  EverTravelledAbroad_Yes  \n",
              "0                0                       1                        0  \n",
              "1                0                       1                        0  \n",
              "2                1                       1                        0  \n",
              "3                0                       1                        0  \n",
              "4                0                       1                        0  "
            ],
            "text/html": [
              "\n",
              "  <div id=\"df-1109db79-6e7f-46b2-8d26-c35fa2577525\" class=\"colab-df-container\">\n",
              "    <div>\n",
              "<style scoped>\n",
              "    .dataframe tbody tr th:only-of-type {\n",
              "        vertical-align: middle;\n",
              "    }\n",
              "\n",
              "    .dataframe tbody tr th {\n",
              "        vertical-align: top;\n",
              "    }\n",
              "\n",
              "    .dataframe thead th {\n",
              "        text-align: right;\n",
              "    }\n",
              "</style>\n",
              "<table border=\"1\" class=\"dataframe\">\n",
              "  <thead>\n",
              "    <tr style=\"text-align: right;\">\n",
              "      <th></th>\n",
              "      <th>Age</th>\n",
              "      <th>Employment Type</th>\n",
              "      <th>GraduateOrNot</th>\n",
              "      <th>AnnualIncome</th>\n",
              "      <th>FamilyMembers</th>\n",
              "      <th>ChronicDiseases</th>\n",
              "      <th>FrequentFlyer</th>\n",
              "      <th>EverTravelledAbroad</th>\n",
              "      <th>TravelInsurance</th>\n",
              "      <th>EverTravelledAbroad_No</th>\n",
              "      <th>EverTravelledAbroad_Yes</th>\n",
              "    </tr>\n",
              "  </thead>\n",
              "  <tbody>\n",
              "    <tr>\n",
              "      <th>0</th>\n",
              "      <td>31</td>\n",
              "      <td>Government Sector</td>\n",
              "      <td>Yes</td>\n",
              "      <td>400000</td>\n",
              "      <td>4.0</td>\n",
              "      <td>1</td>\n",
              "      <td>0</td>\n",
              "      <td>No</td>\n",
              "      <td>0</td>\n",
              "      <td>1</td>\n",
              "      <td>0</td>\n",
              "    </tr>\n",
              "    <tr>\n",
              "      <th>1</th>\n",
              "      <td>31</td>\n",
              "      <td>Private Sector/Self Employed</td>\n",
              "      <td>Yes</td>\n",
              "      <td>1250000</td>\n",
              "      <td>7.0</td>\n",
              "      <td>0</td>\n",
              "      <td>0</td>\n",
              "      <td>No</td>\n",
              "      <td>0</td>\n",
              "      <td>1</td>\n",
              "      <td>0</td>\n",
              "    </tr>\n",
              "    <tr>\n",
              "      <th>2</th>\n",
              "      <td>34</td>\n",
              "      <td>Private Sector/Self Employed</td>\n",
              "      <td>Yes</td>\n",
              "      <td>500000</td>\n",
              "      <td>4.0</td>\n",
              "      <td>1</td>\n",
              "      <td>0</td>\n",
              "      <td>No</td>\n",
              "      <td>1</td>\n",
              "      <td>1</td>\n",
              "      <td>0</td>\n",
              "    </tr>\n",
              "    <tr>\n",
              "      <th>3</th>\n",
              "      <td>28</td>\n",
              "      <td>Private Sector/Self Employed</td>\n",
              "      <td>Yes</td>\n",
              "      <td>700000</td>\n",
              "      <td>3.0</td>\n",
              "      <td>1</td>\n",
              "      <td>0</td>\n",
              "      <td>No</td>\n",
              "      <td>0</td>\n",
              "      <td>1</td>\n",
              "      <td>0</td>\n",
              "    </tr>\n",
              "    <tr>\n",
              "      <th>4</th>\n",
              "      <td>28</td>\n",
              "      <td>Private Sector/Self Employed</td>\n",
              "      <td>Yes</td>\n",
              "      <td>700000</td>\n",
              "      <td>8.0</td>\n",
              "      <td>1</td>\n",
              "      <td>1</td>\n",
              "      <td>No</td>\n",
              "      <td>0</td>\n",
              "      <td>1</td>\n",
              "      <td>0</td>\n",
              "    </tr>\n",
              "  </tbody>\n",
              "</table>\n",
              "</div>\n",
              "    <div class=\"colab-df-buttons\">\n",
              "\n",
              "  <div class=\"colab-df-container\">\n",
              "    <button class=\"colab-df-convert\" onclick=\"convertToInteractive('df-1109db79-6e7f-46b2-8d26-c35fa2577525')\"\n",
              "            title=\"Convert this dataframe to an interactive table.\"\n",
              "            style=\"display:none;\">\n",
              "\n",
              "  <svg xmlns=\"http://www.w3.org/2000/svg\" height=\"24px\" viewBox=\"0 -960 960 960\">\n",
              "    <path d=\"M120-120v-720h720v720H120Zm60-500h600v-160H180v160Zm220 220h160v-160H400v160Zm0 220h160v-160H400v160ZM180-400h160v-160H180v160Zm440 0h160v-160H620v160ZM180-180h160v-160H180v160Zm440 0h160v-160H620v160Z\"/>\n",
              "  </svg>\n",
              "    </button>\n",
              "\n",
              "  <style>\n",
              "    .colab-df-container {\n",
              "      display:flex;\n",
              "      gap: 12px;\n",
              "    }\n",
              "\n",
              "    .colab-df-convert {\n",
              "      background-color: #E8F0FE;\n",
              "      border: none;\n",
              "      border-radius: 50%;\n",
              "      cursor: pointer;\n",
              "      display: none;\n",
              "      fill: #1967D2;\n",
              "      height: 32px;\n",
              "      padding: 0 0 0 0;\n",
              "      width: 32px;\n",
              "    }\n",
              "\n",
              "    .colab-df-convert:hover {\n",
              "      background-color: #E2EBFA;\n",
              "      box-shadow: 0px 1px 2px rgba(60, 64, 67, 0.3), 0px 1px 3px 1px rgba(60, 64, 67, 0.15);\n",
              "      fill: #174EA6;\n",
              "    }\n",
              "\n",
              "    .colab-df-buttons div {\n",
              "      margin-bottom: 4px;\n",
              "    }\n",
              "\n",
              "    [theme=dark] .colab-df-convert {\n",
              "      background-color: #3B4455;\n",
              "      fill: #D2E3FC;\n",
              "    }\n",
              "\n",
              "    [theme=dark] .colab-df-convert:hover {\n",
              "      background-color: #434B5C;\n",
              "      box-shadow: 0px 1px 3px 1px rgba(0, 0, 0, 0.15);\n",
              "      filter: drop-shadow(0px 1px 2px rgba(0, 0, 0, 0.3));\n",
              "      fill: #FFFFFF;\n",
              "    }\n",
              "  </style>\n",
              "\n",
              "    <script>\n",
              "      const buttonEl =\n",
              "        document.querySelector('#df-1109db79-6e7f-46b2-8d26-c35fa2577525 button.colab-df-convert');\n",
              "      buttonEl.style.display =\n",
              "        google.colab.kernel.accessAllowed ? 'block' : 'none';\n",
              "\n",
              "      async function convertToInteractive(key) {\n",
              "        const element = document.querySelector('#df-1109db79-6e7f-46b2-8d26-c35fa2577525');\n",
              "        const dataTable =\n",
              "          await google.colab.kernel.invokeFunction('convertToInteractive',\n",
              "                                                    [key], {});\n",
              "        if (!dataTable) return;\n",
              "\n",
              "        const docLinkHtml = 'Like what you see? Visit the ' +\n",
              "          '<a target=\"_blank\" href=https://colab.research.google.com/notebooks/data_table.ipynb>data table notebook</a>'\n",
              "          + ' to learn more about interactive tables.';\n",
              "        element.innerHTML = '';\n",
              "        dataTable['output_type'] = 'display_data';\n",
              "        await google.colab.output.renderOutput(dataTable, element);\n",
              "        const docLink = document.createElement('div');\n",
              "        docLink.innerHTML = docLinkHtml;\n",
              "        element.appendChild(docLink);\n",
              "      }\n",
              "    </script>\n",
              "  </div>\n",
              "\n",
              "\n",
              "<div id=\"df-939bb521-6584-47e5-9c25-522401728734\">\n",
              "  <button class=\"colab-df-quickchart\" onclick=\"quickchart('df-939bb521-6584-47e5-9c25-522401728734')\"\n",
              "            title=\"Suggest charts.\"\n",
              "            style=\"display:none;\">\n",
              "\n",
              "<svg xmlns=\"http://www.w3.org/2000/svg\" height=\"24px\"viewBox=\"0 0 24 24\"\n",
              "     width=\"24px\">\n",
              "    <g>\n",
              "        <path d=\"M19 3H5c-1.1 0-2 .9-2 2v14c0 1.1.9 2 2 2h14c1.1 0 2-.9 2-2V5c0-1.1-.9-2-2-2zM9 17H7v-7h2v7zm4 0h-2V7h2v10zm4 0h-2v-4h2v4z\"/>\n",
              "    </g>\n",
              "</svg>\n",
              "  </button>\n",
              "\n",
              "<style>\n",
              "  .colab-df-quickchart {\n",
              "      --bg-color: #E8F0FE;\n",
              "      --fill-color: #1967D2;\n",
              "      --hover-bg-color: #E2EBFA;\n",
              "      --hover-fill-color: #174EA6;\n",
              "      --disabled-fill-color: #AAA;\n",
              "      --disabled-bg-color: #DDD;\n",
              "  }\n",
              "\n",
              "  [theme=dark] .colab-df-quickchart {\n",
              "      --bg-color: #3B4455;\n",
              "      --fill-color: #D2E3FC;\n",
              "      --hover-bg-color: #434B5C;\n",
              "      --hover-fill-color: #FFFFFF;\n",
              "      --disabled-bg-color: #3B4455;\n",
              "      --disabled-fill-color: #666;\n",
              "  }\n",
              "\n",
              "  .colab-df-quickchart {\n",
              "    background-color: var(--bg-color);\n",
              "    border: none;\n",
              "    border-radius: 50%;\n",
              "    cursor: pointer;\n",
              "    display: none;\n",
              "    fill: var(--fill-color);\n",
              "    height: 32px;\n",
              "    padding: 0;\n",
              "    width: 32px;\n",
              "  }\n",
              "\n",
              "  .colab-df-quickchart:hover {\n",
              "    background-color: var(--hover-bg-color);\n",
              "    box-shadow: 0 1px 2px rgba(60, 64, 67, 0.3), 0 1px 3px 1px rgba(60, 64, 67, 0.15);\n",
              "    fill: var(--button-hover-fill-color);\n",
              "  }\n",
              "\n",
              "  .colab-df-quickchart-complete:disabled,\n",
              "  .colab-df-quickchart-complete:disabled:hover {\n",
              "    background-color: var(--disabled-bg-color);\n",
              "    fill: var(--disabled-fill-color);\n",
              "    box-shadow: none;\n",
              "  }\n",
              "\n",
              "  .colab-df-spinner {\n",
              "    border: 2px solid var(--fill-color);\n",
              "    border-color: transparent;\n",
              "    border-bottom-color: var(--fill-color);\n",
              "    animation:\n",
              "      spin 1s steps(1) infinite;\n",
              "  }\n",
              "\n",
              "  @keyframes spin {\n",
              "    0% {\n",
              "      border-color: transparent;\n",
              "      border-bottom-color: var(--fill-color);\n",
              "      border-left-color: var(--fill-color);\n",
              "    }\n",
              "    20% {\n",
              "      border-color: transparent;\n",
              "      border-left-color: var(--fill-color);\n",
              "      border-top-color: var(--fill-color);\n",
              "    }\n",
              "    30% {\n",
              "      border-color: transparent;\n",
              "      border-left-color: var(--fill-color);\n",
              "      border-top-color: var(--fill-color);\n",
              "      border-right-color: var(--fill-color);\n",
              "    }\n",
              "    40% {\n",
              "      border-color: transparent;\n",
              "      border-right-color: var(--fill-color);\n",
              "      border-top-color: var(--fill-color);\n",
              "    }\n",
              "    60% {\n",
              "      border-color: transparent;\n",
              "      border-right-color: var(--fill-color);\n",
              "    }\n",
              "    80% {\n",
              "      border-color: transparent;\n",
              "      border-right-color: var(--fill-color);\n",
              "      border-bottom-color: var(--fill-color);\n",
              "    }\n",
              "    90% {\n",
              "      border-color: transparent;\n",
              "      border-bottom-color: var(--fill-color);\n",
              "    }\n",
              "  }\n",
              "</style>\n",
              "\n",
              "  <script>\n",
              "    async function quickchart(key) {\n",
              "      const quickchartButtonEl =\n",
              "        document.querySelector('#' + key + ' button');\n",
              "      quickchartButtonEl.disabled = true;  // To prevent multiple clicks.\n",
              "      quickchartButtonEl.classList.add('colab-df-spinner');\n",
              "      try {\n",
              "        const charts = await google.colab.kernel.invokeFunction(\n",
              "            'suggestCharts', [key], {});\n",
              "      } catch (error) {\n",
              "        console.error('Error during call to suggestCharts:', error);\n",
              "      }\n",
              "      quickchartButtonEl.classList.remove('colab-df-spinner');\n",
              "      quickchartButtonEl.classList.add('colab-df-quickchart-complete');\n",
              "    }\n",
              "    (() => {\n",
              "      let quickchartButtonEl =\n",
              "        document.querySelector('#df-939bb521-6584-47e5-9c25-522401728734 button');\n",
              "      quickchartButtonEl.style.display =\n",
              "        google.colab.kernel.accessAllowed ? 'block' : 'none';\n",
              "    })();\n",
              "  </script>\n",
              "</div>\n",
              "    </div>\n",
              "  </div>\n"
            ]
          },
          "metadata": {},
          "execution_count": 193
        }
      ]
    }
  ]
}